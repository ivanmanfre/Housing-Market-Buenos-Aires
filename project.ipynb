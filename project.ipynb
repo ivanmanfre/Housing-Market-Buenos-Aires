{
 "cells": [
  {
   "cell_type": "code",
   "execution_count": null,
   "metadata": {},
   "outputs": [],
   "source": [
    "pip install requests beautifulsoup4 pandas\n",
    "\n",
    "#requests is to fetch web pages\n",
    "#beautifulsoup to parse the html content\n",
    "#pandas"
   ]
  },
  {
   "cell_type": "code",
   "execution_count": 11,
   "metadata": {},
   "outputs": [
    {
     "name": "stdout",
     "output_type": "stream",
     "text": [
      "403\n"
     ]
    }
   ],
   "source": [
    "import requests\n",
    "\n",
    "url = 'https://www.zonaprop.com.ar'\n",
    "response = requests.get(url)\n",
    "html_content = response.text\n",
    "print(response.status_code)"
   ]
  },
  {
   "cell_type": "markdown",
   "metadata": {},
   "source": [
    "Couldn't access with requests, so I switched to selenium"
   ]
  },
  {
   "cell_type": "markdown",
   "metadata": {},
   "source": [
    "by agency"
   ]
  },
  {
   "cell_type": "code",
   "execution_count": null,
   "metadata": {},
   "outputs": [],
   "source": [
    "pip install undetected-chromedriver"
   ]
  },
  {
   "cell_type": "code",
   "execution_count": null,
   "metadata": {},
   "outputs": [],
   "source": [
    "import pandas as pd\n",
    "import undetected_chromedriver as uc\n",
    "from selenium.webdriver.common.by import By\n",
    "from selenium.webdriver.support.ui import WebDriverWait\n",
    "from selenium.webdriver.support import expected_conditions as EC\n",
    "\n",
    "\n",
    "\n",
    "options = uc.ChromeOptions()\n",
    "options.add_argument(\"--incognito\")\n",
    "options.add_argument(\"--start-maximized\")\n",
    "\n",
    "prefs = {\n",
    "    \"profile.managed_default_content_settings.images\": 2,\n",
    "    \"permissions.default.stylesheet\": 2,\n",
    "}\n",
    "options.add_experimental_option(\"prefs\", prefs)\n",
    "\n",
    "driver = uc.Chrome(options=options)\n",
    "wait = WebDriverWait(driver, 2)  # Adjust this value based on your needs\n",
    "\n",
    "data = []\n",
    "total_pages = 285  # Adjust based on the total number of pages to scrape\n",
    "\n",
    "for page in range(1, total_pages + 1):\n",
    "    url = f'https://www.zonaprop.com.ar/departamentos-alquiler-capital-federal-publicado-hace-menos-de-45-dias-pagina-{page}-inmobiliaria.html'\n",
    "    driver.get(url)\n",
    "  \n",
    "    \n",
    "    # Wait dynamically for listings to be loaded\n",
    "    wait.until(EC.presence_of_all_elements_located((By.CLASS_NAME, 'sc-i1odl-3.kHALbX')))\n",
    "    \n",
    "    listings = driver.find_elements(By.CLASS_NAME, 'sc-i1odl-3.kHALbX')\n",
    "    \n",
    "    for listing in listings:\n",
    "        try:\n",
    "            title = listing.find_element(By.CSS_SELECTOR, 'h2.sc-i1odl-11.kvKUxE > a').text\n",
    "            price = listing.find_element(By.CSS_SELECTOR, 'div[data-qa=\"POSTING_CARD_PRICE\"]').text\n",
    "            rooms = listing.find_element(By.CSS_SELECTOR, 'div[data-qa=\"POSTING_CARD_FEATURES\"] > span:nth-child(3) > span').text\n",
    "            neighborhood = listing.find_element(By.CSS_SELECTOR, 'div[data-qa=\"POSTING_CARD_LOCATION\"]').text\n",
    "            address = listing.find_element(By.CSS_SELECTOR, 'div.sc-ge2uzh-0.eXwAuU').text\n",
    "            square_meters = listing.find_element(By.CSS_SELECTOR, 'div[data-qa=\"POSTING_CARD_FEATURES\"] > span:first-child').text\n",
    "            \n",
    "            data.append({\n",
    "                'Titulo': title,\n",
    "                'Precio': price,\n",
    "                'Ambientes': rooms,\n",
    "                'Barrio': neighborhood,\n",
    "                'Direccion': address,\n",
    "                'Metros cuadrados': square_meters,\n",
    "                'Posted_By': \"Agency\"\n",
    "            })\n",
    "        except Exception as e:\n",
    "            print(f'Error extracting data for a listing: {e}')\n",
    "\n",
    "\n",
    "# list of dictionaries to DataFrame\n",
    "df = pd.DataFrame(data)\n",
    "\n",
    "# to  CSV file\n",
    "df.to_csv('/Users/ivanmanfredi/Desktop/agency.csv', index=False)\n",
    "\n",
    "# Close the WebDriver\n",
    "driver.quit()\n",
    "\n",
    "# Output the path to confirm where the file is saved\n",
    "print('CSV file saved at /Users/ivanmanfredi/Desktop/agency.csv')\n",
    "\n"
   ]
  },
  {
   "cell_type": "markdown",
   "metadata": {},
   "source": [
    "by Direct Owner"
   ]
  },
  {
   "cell_type": "code",
   "execution_count": null,
   "metadata": {},
   "outputs": [],
   "source": [
    "import pandas as pd\n",
    "import undetected_chromedriver as uc\n",
    "from selenium.webdriver.common.by import By\n",
    "from selenium.webdriver.support.ui import WebDriverWait\n",
    "from selenium.webdriver.support import expected_conditions as EC\n",
    "\n",
    "\n",
    "\n",
    "options = uc.ChromeOptions()\n",
    "options.add_argument(\"--incognito\")\n",
    "options.add_argument(\"--start-maximized\")\n",
    "\n",
    "prefs = {\n",
    "    \"profile.managed_default_content_settings.images\": 2,\n",
    "    \"permissions.default.stylesheet\": 2,\n",
    "}\n",
    "options.add_experimental_option(\"prefs\", prefs)\n",
    "\n",
    "driver = uc.Chrome(options=options)\n",
    "wait = WebDriverWait(driver, 2)  # Adjust this value based on your needs\n",
    "\n",
    "data = []\n",
    "total_pages = 39  # Adjust based on the total number of pages to scrape\n",
    "\n",
    "for page in range(1, total_pages + 1):\n",
    "    url = f'https://www.zonaprop.com.ar/departamentos-alquiler-capital-federal-publicado-hace-menos-de-45-dias-pagina-{page}-dueno-directo.html'\n",
    "    driver.get(url)\n",
    "  \n",
    "    \n",
    "    # Wait dynamically for listings to be loaded\n",
    "    wait.until(EC.presence_of_all_elements_located((By.CLASS_NAME, 'sc-i1odl-3.kHALbX')))\n",
    "    \n",
    "    listings = driver.find_elements(By.CLASS_NAME, 'sc-i1odl-3.kHALbX')\n",
    "    \n",
    "    for listing in listings:\n",
    "        try:\n",
    "            title = listing.find_element(By.CSS_SELECTOR, 'h2.sc-i1odl-11.kvKUxE > a').text\n",
    "            price = listing.find_element(By.CSS_SELECTOR, 'div[data-qa=\"POSTING_CARD_PRICE\"]').text\n",
    "            rooms = listing.find_element(By.CSS_SELECTOR, 'div[data-qa=\"POSTING_CARD_FEATURES\"] > span:nth-child(3) > span').text\n",
    "            neighborhood = listing.find_element(By.CSS_SELECTOR, 'div[data-qa=\"POSTING_CARD_LOCATION\"]').text\n",
    "            address = listing.find_element(By.CSS_SELECTOR, 'div.sc-ge2uzh-0.eXwAuU').text\n",
    "            square_meters = listing.find_element(By.CSS_SELECTOR, 'div[data-qa=\"POSTING_CARD_FEATURES\"] > span:first-child').text\n",
    "            \n",
    "            data.append({\n",
    "                'Titulo': title,\n",
    "                'Precio': price,\n",
    "                'Ambientes': rooms,\n",
    "                'Barrio': neighborhood,\n",
    "                'Direccion': address,\n",
    "                'Metros cuadrados': square_meters,\n",
    "                'Posted_By': \"Directo\"\n",
    "            })\n",
    "        except Exception as e:\n",
    "            print(f'Error extracting data for a listing: {e}')\n",
    "\n",
    "\n",
    "# Convert the list of dictionaries to a DataFrame\n",
    "df = pd.DataFrame(data)\n",
    "\n",
    "# Save the DataFrame to a CSV file\n",
    "df.to_csv('/Users/ivanmanfredi/Desktop/direct.csv', index=False)\n",
    "\n",
    "# Close the WebDriver\n",
    "driver.quit()\n",
    "\n",
    "# Output the path to confirm where the file is saved\n",
    "print('CSV file saved at /Users/ivanmanfredi/Desktop/direct.csv')"
   ]
  }
 ],
 "metadata": {
  "kernelspec": {
   "display_name": "Python 3",
   "language": "python",
   "name": "python3"
  },
  "language_info": {
   "codemirror_mode": {
    "name": "ipython",
    "version": 3
   },
   "file_extension": ".py",
   "mimetype": "text/x-python",
   "name": "python",
   "nbconvert_exporter": "python",
   "pygments_lexer": "ipython3",
   "version": "3.10.8"
  }
 },
 "nbformat": 4,
 "nbformat_minor": 2
}
